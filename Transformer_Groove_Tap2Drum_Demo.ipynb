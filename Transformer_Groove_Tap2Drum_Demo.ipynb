{
  "nbformat": 4,
  "nbformat_minor": 0,
  "metadata": {
    "colab": {
      "name": "Transformer-Groove-Tap2Drum-Demo.ipynb",
      "provenance": [],
      "authorship_tag": "ABX9TyOLrHSWB+dzFS6z976LIyIF",
      "include_colab_link": true
    },
    "kernelspec": {
      "name": "python3",
      "display_name": "Python 3"
    },
    "language_info": {
      "name": "python"
    }
  },
  "cells": [
    {
      "cell_type": "markdown",
      "metadata": {
        "id": "view-in-github",
        "colab_type": "text"
      },
      "source": [
        "<a href=\"https://colab.research.google.com/github/marinaniet0/TransformerGrooveTap2Drum/blob/main/Transformer_Groove_Tap2Drum_Demo.ipynb\" target=\"_parent\"><img src=\"https://colab.research.google.com/assets/colab-badge.svg\" alt=\"Open In Colab\"/></a>"
      ]
    },
    {
      "cell_type": "markdown",
      "metadata": {
        "id": "P_BBV218LWCF"
      },
      "source": [
        "[![Open In Colab](https://colab.research.google.com/assets/colab-badge.svg)](https://colab.research.google.com/github/marinaniet0/TransformerGrooveTap2Drum/Transformer-Groove-Tap2Drum-Demo.ipynb)"
      ]
    },
    {
      "cell_type": "code",
      "metadata": {
        "id": "JLQEE45AMBSO"
      },
      "source": [
        ""
      ],
      "execution_count": null,
      "outputs": []
    }
  ]
}